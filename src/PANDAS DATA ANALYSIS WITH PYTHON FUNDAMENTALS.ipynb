{
 "cells": [
  {
   "cell_type": "code",
   "execution_count": 2,
   "metadata": {},
   "outputs": [],
   "source": [
    "import pandas as pd\n"
   ]
  },
  {
   "cell_type": "code",
   "execution_count": 5,
   "metadata": {},
   "outputs": [
    {
     "name": "stdout",
     "output_type": "stream",
     "text": [
      "0    banana\n",
      "1        42\n",
      "dtype: object\n"
     ]
    }
   ],
   "source": [
    "s = pd.Series(['banana', 42])\n",
    "print(s)"
   ]
  },
  {
   "cell_type": "code",
   "execution_count": 5,
   "metadata": {},
   "outputs": [
    {
     "name": "stdout",
     "output_type": "stream",
     "text": [
      "   Age        Born        Died               Name    Occupation\n",
      "0   37  1920-07-25  1958-04-16  Rosaline Franklin       Chemist\n",
      "1   61  1876-06-13  1937-10-16     William Gosset  Statistician\n"
     ]
    }
   ],
   "source": [
    "scientists = pd.DataFrame({'Name':['Rosaline Franklin', 'William Gosset'],\n",
    "                         'Occupation': ['Chemist', 'Statistician'],\n",
    "                          'Born': ['1920-07-25', '1876-06-13'],\n",
    "                          'Died': ['1958-04-16', '1937-10-16'],\n",
    "                          'Age': [37, 61]})\n",
    "print(scientists)"
   ]
  },
  {
   "cell_type": "code",
   "execution_count": 7,
   "metadata": {},
   "outputs": [
    {
     "name": "stdout",
     "output_type": "stream",
     "text": [
      "                     Occupation        Born        Died  Age\n",
      "Rosaline Franklin       Chemist  1920-07-25  1958-04-16   37\n",
      "William Gosset     Statistician  1876-06-13  1937-10-16   61\n"
     ]
    }
   ],
   "source": [
    "# Assign Index and Columns\n",
    "scientists = pd.DataFrame({'Occupation': ['Chemist', 'Statistician'],\n",
    "                          'Born': ['1920-07-25', '1876-06-13'],\n",
    "                          'Died': ['1958-04-16', '1937-10-16'],\n",
    "                          'Age':  [37, 61]},\n",
    "                         index=['Rosaline Franklin', 'William Gosset'],\n",
    "                         columns=['Occupation', 'Born', 'Died', 'Age'])\n",
    "print(scientists)"
   ]
  },
  {
   "cell_type": "code",
   "execution_count": 20,
   "metadata": {},
   "outputs": [
    {
     "name": "stdout",
     "output_type": "stream",
     "text": [
      "Occupation    Statistician\n",
      "Born            1876-06-13\n",
      "Died            1937-10-16\n",
      "Age                     61\n",
      "Name: William Gosset, dtype: object\n",
      "Keys\n",
      "Index(['Occupation', 'Born', 'Died', 'Age'], dtype='object')\n",
      "Values\n",
      "Statistician\n",
      "Get the first key name\n",
      "Occupation\n",
      "Get the 2nd key name\n",
      "Born\n"
     ]
    }
   ],
   "source": [
    "first_row = scientists.loc['William Gosset']\n",
    "print(first_row)\n",
    "print(\"Keys\")\n",
    "print(first_row.keys())\n",
    "print(\"Values\")\n",
    "print(first_row.values[0])\n",
    "print(\"Get the first key name\")\n",
    "print(first_row.keys()[0])\n",
    "print(\"Get the 2nd key name\")\n",
    "print(first_row.keys()[1])"
   ]
  },
  {
   "cell_type": "code",
   "execution_count": 36,
   "metadata": {},
   "outputs": [
    {
     "name": "stdout",
     "output_type": "stream",
     "text": [
      "<class 'float'>\n",
      "37.0, 61.0, 49.0\n"
     ]
    }
   ],
   "source": [
    "ages = scientists['Age']\n",
    "print(type(ages.mean()))\n",
    "print('{:.1f}, {:.1f}, {:.1f}'.format(ages.min(), ages.max(), ages.mean()))"
   ]
  },
  {
   "cell_type": "code",
   "execution_count": 41,
   "metadata": {},
   "outputs": [
    {
     "name": "stdout",
     "output_type": "stream",
     "text": [
      "                   Name        Born        Died  Age          Occupation\n",
      "0     Rosaline Franklin  1920-07-25  1958-04-16   37             Chemist\n",
      "1        William Gosset  1876-06-13  1937-10-16   61        Statistician\n",
      "2  Florence Nightingale  1820-05-12  1910-08-13   90               Nurse\n",
      "3           Marie Curie  1867-11-07  1934-07-04   66             Chemist\n",
      "4         Rachel Carson  1907-05-27  1964-04-14   56           Biologist\n",
      "5             John Snow  1813-03-15  1858-06-16   45           Physician\n",
      "6           Alan Turing  1912-06-23  1954-06-07   41  Computer Scientist\n",
      "7          Johann Gauss  1777-04-30  1855-02-23   77       Mathematician\n",
      "count     8.000000\n",
      "mean     59.125000\n",
      "std      18.325918\n",
      "min      37.000000\n",
      "25%      44.000000\n",
      "50%      58.500000\n",
      "75%      68.750000\n",
      "max      90.000000\n",
      "Name: Age, dtype: float64\n"
     ]
    }
   ],
   "source": [
    "scientists = pd.read_csv('../data/scientists.csv')\n",
    "print(scientists)\n",
    "ages = scientists.Age\n",
    "\n",
    "print(ages.describe())"
   ]
  },
  {
   "cell_type": "code",
   "execution_count": 53,
   "metadata": {},
   "outputs": [
    {
     "name": "stdout",
     "output_type": "stream",
     "text": [
      "Mean age: 59.12\n",
      "Ages greater than mean: 1    61\n",
      "2    90\n",
      "3    66\n",
      "7    77\n",
      "Name: Age, dtype: int64\n"
     ]
    }
   ],
   "source": [
    "# Find the ages that are greater than the mean\n",
    "print('Mean age: {:.2f}'.format(ages.mean()))\n",
    "print('Ages greater than mean: {}'.format(ages[ages > ages.mean()]))"
   ]
  },
  {
   "cell_type": "code",
   "execution_count": 55,
   "metadata": {},
   "outputs": [
    {
     "name": "stdout",
     "output_type": "stream",
     "text": [
      "0    False\n",
      "1     True\n",
      "2     True\n",
      "3     True\n",
      "4    False\n",
      "5    False\n",
      "6    False\n",
      "7     True\n",
      "Name: Age, dtype: bool\n"
     ]
    }
   ],
   "source": [
    "# Test if each age in the series is greater than the mean\n",
    "print(ages > ages.mean())"
   ]
  },
  {
   "cell_type": "code",
   "execution_count": 60,
   "metadata": {},
   "outputs": [
    {
     "name": "stdout",
     "output_type": "stream",
     "text": [
      "<class 'pandas.core.series.Series'>\n",
      "0    37\n",
      "1    61\n",
      "4    56\n",
      "5    45\n",
      "Name: Age, dtype: int64\n"
     ]
    }
   ],
   "source": [
    "# Filtering a series\n",
    "manual_bool_values=[True, True, False, False, True, True, False, False]\n",
    "print(type(ages))\n",
    "print(ages[manual_bool_values])"
   ]
  },
  {
   "cell_type": "code",
   "execution_count": 62,
   "metadata": {},
   "outputs": [
    {
     "name": "stdout",
     "output_type": "stream",
     "text": [
      "0     74\n",
      "1    122\n",
      "2    180\n",
      "3    132\n",
      "4    112\n",
      "5     90\n",
      "6     82\n",
      "7    154\n",
      "Name: Age, dtype: int64\n",
      "0    1369\n",
      "1    3721\n",
      "2    8100\n",
      "3    4356\n",
      "4    3136\n",
      "5    2025\n",
      "6    1681\n",
      "7    5929\n",
      "Name: Age, dtype: int64\n",
      "0    137\n",
      "1    161\n",
      "2    190\n",
      "3    166\n",
      "4    156\n",
      "5    145\n",
      "6    141\n",
      "7    177\n",
      "Name: Age, dtype: int64\n",
      "0     74\n",
      "1    122\n",
      "2    180\n",
      "3    132\n",
      "4    112\n",
      "5     90\n",
      "6     82\n",
      "7    154\n",
      "Name: Age, dtype: int64\n"
     ]
    }
   ],
   "source": [
    "# Mathematical operations on a series\n",
    "print(ages + ages)\n",
    "print(ages * ages)\n",
    "print(ages + 100)\n",
    "print(ages * 2)"
   ]
  },
  {
   "cell_type": "code",
   "execution_count": 63,
   "metadata": {},
   "outputs": [
    {
     "name": "stdout",
     "output_type": "stream",
     "text": [
      "0     38.0\n",
      "1    161.0\n",
      "2      NaN\n",
      "3      NaN\n",
      "4      NaN\n",
      "5      NaN\n",
      "6      NaN\n",
      "7      NaN\n",
      "dtype: float64\n"
     ]
    }
   ],
   "source": [
    "# Working with series of different lengths\n",
    "print(ages + pd.Series([1,100]))"
   ]
  },
  {
   "cell_type": "code",
   "execution_count": 77,
   "metadata": {},
   "outputs": [
    {
     "name": "stdout",
     "output_type": "stream",
     "text": [
      "                Name        Born        Died  Age          Occupation\n",
      "0  Rosaline Franklin  1920-07-25  1958-04-16   37             Chemist\n",
      "5          John Snow  1813-03-15  1858-06-16   45           Physician\n",
      "6        Alan Turing  1912-06-23  1954-06-07   41  Computer Scientist\n"
     ]
    }
   ],
   "source": [
    "# Ages > 50\n",
    "print(scientists.loc[ages < 50])"
   ]
  },
  {
   "cell_type": "code",
   "execution_count": 82,
   "metadata": {},
   "outputs": [
    {
     "name": "stdout",
     "output_type": "stream",
     "text": [
      "           Name        Born        Died  Age     Occupation\n",
      "7  Johann Gauss  1777-04-30  1855-02-23   77  Mathematician\n"
     ]
    }
   ],
   "source": [
    "print(scientists[(scientists['Age'] > 50) & (scientists['Died'] < '1900-01-01')])"
   ]
  },
  {
   "cell_type": "code",
   "execution_count": 86,
   "metadata": {},
   "outputs": [],
   "source": [
    "scientists_original = scientists.copy()\n",
    "born_datetime = pd.to_datetime(scientists.Born, format='%Y-%m-%d')\n",
    "died_datetime = pd.to_datetime(scientists.Died, format='%Y-%m-%d')\n",
    "\n",
    "scientists['born_dt'] = born_datetime\n",
    "scientists['died_dt'] = died_datetime\n"
   ]
  },
  {
   "cell_type": "code",
   "execution_count": 91,
   "metadata": {},
   "outputs": [
    {
     "name": "stderr",
     "output_type": "stream",
     "text": [
      "/home/rnslucas/anaconda3/lib/python3.6/random.py:275: SettingWithCopyWarning: \n",
      "A value is trying to be set on a copy of a slice from a DataFrame\n",
      "\n",
      "See the caveats in the documentation: http://pandas.pydata.org/pandas-docs/stable/indexing.html#indexing-view-versus-copy\n",
      "  x[i], x[j] = x[j], x[i]\n"
     ]
    }
   ],
   "source": [
    "# Shuffle the dataframe based on the Age column (series)\n",
    "import random\n",
    "random.seed(42)\n",
    "\n",
    "random.shuffle(scientists['Age'])"
   ]
  },
  {
   "cell_type": "code",
   "execution_count": 95,
   "metadata": {},
   "outputs": [
    {
     "name": "stdout",
     "output_type": "stream",
     "text": [
      "                   Name        Born        Died  Age          Occupation  \\\n",
      "0     Rosaline Franklin  1920-07-25  1958-04-16   66             Chemist   \n",
      "1        William Gosset  1876-06-13  1937-10-16   56        Statistician   \n",
      "2  Florence Nightingale  1820-05-12  1910-08-13   41               Nurse   \n",
      "3           Marie Curie  1867-11-07  1934-07-04   77             Chemist   \n",
      "4         Rachel Carson  1907-05-27  1964-04-14   90           Biologist   \n",
      "5             John Snow  1813-03-15  1858-06-16   45           Physician   \n",
      "6           Alan Turing  1912-06-23  1954-06-07   37  Computer Scientist   \n",
      "7          Johann Gauss  1777-04-30  1855-02-23   61       Mathematician   \n",
      "\n",
      "     born_dt    died_dt age_days_dt  age_years_dt  \n",
      "0 1920-07-25 1958-04-16  13779 days          37.0  \n",
      "1 1876-06-13 1937-10-16  22404 days          61.0  \n",
      "2 1820-05-12 1910-08-13  32964 days          90.0  \n",
      "3 1867-11-07 1934-07-04  24345 days          66.0  \n",
      "4 1907-05-27 1964-04-14  20777 days          56.0  \n",
      "5 1813-03-15 1858-06-16  16529 days          45.0  \n",
      "6 1912-06-23 1954-06-07  15324 days          41.0  \n",
      "7 1777-04-30 1855-02-23  28422 days          77.0  \n"
     ]
    }
   ],
   "source": [
    "# Simple date maths to add a new column\n",
    "scientists['age_days_dt'] = scientists.died_dt - scientists.born_dt\n",
    "\n",
    "# Convert this to years using the \"astype\"\n",
    "scientists['age_years_dt'] = scientists.age_days_dt.astype('timedelta64[Y]')\n",
    "print(scientists)\n"
   ]
  },
  {
   "cell_type": "code",
   "execution_count": 98,
   "metadata": {},
   "outputs": [
    {
     "name": "stdout",
     "output_type": "stream",
     "text": [
      "0       Rosaline Franklin\n",
      "1          William Gosset\n",
      "2    Florence Nightingale\n",
      "3             Marie Curie\n",
      "4           Rachel Carson\n",
      "5               John Snow\n",
      "6             Alan Turing\n",
      "7            Johann Gauss\n",
      "Name: Name, dtype: object\n",
      "                   Name        Born        Died  Age          Occupation  \\\n",
      "0     Rosaline Franklin  1920-07-25  1958-04-16   66             Chemist   \n",
      "1        William Gosset  1876-06-13  1937-10-16   56        Statistician   \n",
      "2  Florence Nightingale  1820-05-12  1910-08-13   41               Nurse   \n",
      "3           Marie Curie  1867-11-07  1934-07-04   77             Chemist   \n",
      "4         Rachel Carson  1907-05-27  1964-04-14   90           Biologist   \n",
      "5             John Snow  1813-03-15  1858-06-16   45           Physician   \n",
      "6           Alan Turing  1912-06-23  1954-06-07   37  Computer Scientist   \n",
      "7          Johann Gauss  1777-04-30  1855-02-23   61       Mathematician   \n",
      "\n",
      "     born_dt    died_dt age_days_dt  age_years_dt  \n",
      "0 1920-07-25 1958-04-16  13779 days          37.0  \n",
      "1 1876-06-13 1937-10-16  22404 days          61.0  \n",
      "2 1820-05-12 1910-08-13  32964 days          90.0  \n",
      "3 1867-11-07 1934-07-04  24345 days          66.0  \n",
      "4 1907-05-27 1964-04-14  20777 days          56.0  \n",
      "5 1813-03-15 1858-06-16  16529 days          45.0  \n",
      "6 1912-06-23 1954-06-07  15324 days          41.0  \n",
      "7 1777-04-30 1855-02-23  28422 days          77.0  \n"
     ]
    }
   ],
   "source": [
    "names = scientists.Name\n",
    "names.to_pickle('names_series.pickle')\n",
    "scientists.to_pickle('scientists.pickle')\n",
    "\n",
    "series_name_from_pickle = pd.read_pickle('names_series.pickle')\n",
    "scientists_from_picket = pd.read_pickle('scientists.pickle')\n",
    "print(series_name_from_pickle)\n",
    "print(scientists_from_picket)\n"
   ]
  },
  {
   "cell_type": "code",
   "execution_count": 99,
   "metadata": {},
   "outputs": [
    {
     "name": "stdout",
     "output_type": "stream",
     "text": [
      "                   Name        Born        Died  Age          Occupation  \\\n",
      "0     Rosaline Franklin  1920-07-25  1958-04-16   66             Chemist   \n",
      "1        William Gosset  1876-06-13  1937-10-16   56        Statistician   \n",
      "2  Florence Nightingale  1820-05-12  1910-08-13   41               Nurse   \n",
      "3           Marie Curie  1867-11-07  1934-07-04   77             Chemist   \n",
      "4         Rachel Carson  1907-05-27  1964-04-14   90           Biologist   \n",
      "5             John Snow  1813-03-15  1858-06-16   45           Physician   \n",
      "6           Alan Turing  1912-06-23  1954-06-07   37  Computer Scientist   \n",
      "7          Johann Gauss  1777-04-30  1855-02-23   61       Mathematician   \n",
      "\n",
      "     born_dt    died_dt  age_days_dt  age_years_dt  \n",
      "0 1920-07-25 1958-04-16        13780            37  \n",
      "1 1876-06-13 1937-10-16        22405            61  \n",
      "2 1820-05-12 1910-08-13        32965            90  \n",
      "3 1867-11-07 1934-07-04        24346            66  \n",
      "4 1907-05-27 1964-04-14        20778            56  \n",
      "5 1813-03-15 1858-06-16        16530            45  \n",
      "6 1912-06-23 1954-06-07        15325            41  \n",
      "7 1777-04-30 1855-02-23        28423            77  \n"
     ]
    }
   ],
   "source": [
    "# Excel\n",
    "scientists.to_excel(\"scientists.xlsx\")\n",
    "scientists_from_excel = pd.read_excel(\"scientists.xlsx\")\n",
    "print(scientists_from_excel)"
   ]
  },
  {
   "cell_type": "code",
   "execution_count": 101,
   "metadata": {},
   "outputs": [],
   "source": [
    "\n"
   ]
  }
 ],
 "metadata": {
  "kernelspec": {
   "display_name": "Python 3",
   "language": "python",
   "name": "python3"
  },
  "language_info": {
   "codemirror_mode": {
    "name": "ipython",
    "version": 3
   },
   "file_extension": ".py",
   "mimetype": "text/x-python",
   "name": "python",
   "nbconvert_exporter": "python",
   "pygments_lexer": "ipython3",
   "version": "3.6.4"
  }
 },
 "nbformat": 4,
 "nbformat_minor": 2
}
